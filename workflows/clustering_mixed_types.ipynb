{
 "cells": [
  {
   "cell_type": "markdown",
   "id": "9373401f-f297-4ea7-bf0f-5bebc5d28e2a",
   "metadata": {},
   "source": [
    "---\n",
    "title: \"Clustering with Mixed-Type Tabular Data\"\n",
    "format:\n",
    "  html:\n",
    "    code-fold: false\n",
    "    code-summary: \"Show code\"\n",
    "---"
   ]
  },
  {
   "cell_type": "markdown",
   "id": "0de2a24d-d10c-45be-bb60-db6e0e991df3",
   "metadata": {},
   "source": [
    "This notebook explores three approaches to clustering datasets with mixed data types.\n",
    "\n",
    "Uses the `penguins` dataset from **seaborn**, and applies different distance strategies and models. Final results are evaluated using **Adjusted Rand Index (ARI)** and **Normalized Mutual Information (NMI)** and the known taget variable (penguin species).\n",
    "\n",
    "Clustering mixed-type data (e.g. numeric + categorical) requires special handling of distance metrics. Standard clustering methods like KMeans assume numeric, Euclidean space. Here we use Gower distance or specialized models like `k-prototypes` that support categorical features directly.\n",
    "\n",
    "We use feature standardization for the numeric columns before building the k-prototypes model. We don't use standardization for the data that is used to create the Gower matrix (as that is handled internally).\n",
    "\n",
    "This notebook does the following:\n",
    "\n",
    "- Prepares the data by dropping rows with NAs and separating numeric and categorical columns  \n",
    "- Standardizes numerical values for k-prototypes clustering and creates a Gower matrix for DBSCAN and agglomerative clustering\n",
    "- Builds three clustering models:  \n",
    "  - k-prototypes (from `kmodes`)  \n",
    "  - DBSCAN (with Gower distance)  \n",
    "  - Agglomerative clustering (with Gower distance)  \n",
    "- Compares results using ARI and NMI scores  \n",
    "\n",
    "::: {.callout-note collapse=\"true\" title=\"Note: Using `display` for HTML tables\"}\n",
    "`print(summarize(df))` and `print(df.head())` return tables printed in plain text. To get nicer-formatted HTML tables, use the following instead of `print()`:\n",
    "\n",
    "```{.python}\n",
    "from IPython.display import display\n",
    "display(df.head())\n",
    "\n",
    "# Display summary\n",
    "display(summarize(df))\n",
    "```\n",
    ":::"
   ]
  },
  {
   "cell_type": "markdown",
   "id": "f08d6a46-e8cf-42a1-b242-03d3190d11de",
   "metadata": {},
   "source": [
    "## Import and Check Data"
   ]
  },
  {
   "cell_type": "code",
   "execution_count": 1,
   "id": "c02ca293-fc95-47a1-9cf3-a645d53ccb62",
   "metadata": {},
   "outputs": [
    {
     "name": "stdout",
     "output_type": "stream",
     "text": [
      "----- First Few Rows of Data -----\n",
      "\n",
      "  species     island  bill_length_mm  bill_depth_mm  flipper_length_mm  body_mass_g     sex\n",
      "0  Adelie  Torgersen            39.1           18.7              181.0       3750.0    Male\n",
      "1  Adelie  Torgersen            39.5           17.4              186.0       3800.0  Female\n",
      "2  Adelie  Torgersen            40.3           18.0              195.0       3250.0  Female\n",
      "3  Adelie  Torgersen             NaN            NaN                NaN          NaN     NaN\n",
      "4  Adelie  Torgersen            36.7           19.3              193.0       3450.0  Female\n",
      "\n",
      "----- Data Summary -----\n",
      "\n",
      "                     dtype  count  unique  unique_perc  missing  missing_perc  zero  zero_perc     top freq     mean     std     min     50%     max  skew\n",
      "bill_length_mm     float64    342     164        47.67        2          0.58     0        0.0                 43.92    5.46    32.1   44.45    59.6  0.05\n",
      "bill_depth_mm      float64    342      80        23.26        2          0.58     0        0.0                 17.15    1.97    13.1    17.3    21.5 -0.14\n",
      "flipper_length_mm  float64    342      55        15.99        2          0.58     0        0.0                200.92   14.06   172.0   197.0   231.0  0.35\n",
      "body_mass_g        float64    342      94        27.33        2          0.58     0        0.0               4201.75  801.95  2700.0  4050.0  6300.0  0.47\n",
      "species             object    344       3         0.87        0          0.00     0        0.0  Adelie  152                                               \n",
      "island              object    344       3         0.87        0          0.00     0        0.0  Biscoe  168                                               \n",
      "sex                 object    333       2         0.58       11          3.20     0        0.0    Male  168                                               \n"
     ]
    }
   ],
   "source": [
    "import seaborn as sns\n",
    "import pandas as pd\n",
    "from minieda import summarize # pip install git+https://github.com/dbolotov/minieda.git\n",
    "from pprint import pprint\n",
    "\n",
    "from kmodes.kprototypes import KPrototypes\n",
    "from sklearn.preprocessing import StandardScaler, LabelEncoder\n",
    "import gower\n",
    "from sklearn.cluster import DBSCAN, AgglomerativeClustering\n",
    "from sklearn.metrics import adjusted_rand_score,  normalized_mutual_info_score\n",
    "\n",
    "pd.set_option(\"display.width\", 220) # set display width for printed tables\n",
    "\n",
    "# Load dataset and display first few rows\n",
    "df = sns.load_dataset(\"penguins\")\n",
    "\n",
    "print(\"----- First Few Rows of Data -----\\n\")\n",
    "print(df.head())\n",
    "\n",
    "# Display summary\n",
    "print(\"\\n----- Data Summary -----\\n\")\n",
    "print(summarize(df))"
   ]
  },
  {
   "cell_type": "markdown",
   "id": "f3536ef9-21c7-4cfa-9a36-3b995ee774e0",
   "metadata": {},
   "source": [
    "## Transform Data"
   ]
  },
  {
   "cell_type": "code",
   "execution_count": 2,
   "id": "7ea0d22a-5e4a-4f6c-b3f5-46999bd70c87",
   "metadata": {},
   "outputs": [],
   "source": [
    "# Drop rows with missing values\n",
    "df = df.dropna().reset_index(drop=True)\n",
    "\n",
    "# Define categorical and numeric columns\n",
    "cat_cols = ['island', 'sex']\n",
    "num_cols = ['bill_length_mm', 'bill_depth_mm', 'flipper_length_mm', 'body_mass_g']\n",
    "features = cat_cols + num_cols\n",
    "\n",
    "# Make an explicit copy to avoid chained assignment warnings\n",
    "X = df[features].copy()\n",
    "\n",
    "# Ensure categorical columns are strings\n",
    "for col in cat_cols:\n",
    "    X[col] = X[col].astype(str)\n",
    "\n",
    "# For k-prototypes: scale numeric columns\n",
    "X_kproto = X.copy()\n",
    "scaler = StandardScaler()\n",
    "X_kproto[num_cols] = scaler.fit_transform(X_kproto[num_cols])\n",
    "X_kproto_matrix = X_kproto.to_numpy()\n",
    "categorical_idx = [X_kproto.columns.get_loc(col) for col in cat_cols]\n",
    "\n",
    "# For Gower distance: create Gower matrix using raw data\n",
    "gower_matrix = gower.gower_matrix(X)\n"
   ]
  },
  {
   "cell_type": "markdown",
   "id": "7209148c-5018-4d12-9d96-6f50387dcf00",
   "metadata": {},
   "source": [
    "## Build Models - K-Prototypes, DBSCAN, AgglomerativeClustering"
   ]
  },
  {
   "cell_type": "code",
   "execution_count": 3,
   "id": "469a882d-8c13-4391-ac56-6e90f70eabbe",
   "metadata": {},
   "outputs": [],
   "source": [
    "# Copy base DataFrame for clustering\n",
    "df_clustered = df.copy()\n",
    "\n",
    "# Create a results dictionary\n",
    "results = {}\n",
    "\n",
    "# K-Prototypes\n",
    "kproto = KPrototypes(n_clusters=3, init='Huang', verbose=0, random_state=42)\n",
    "kproto_labels = kproto.fit_predict(X_kproto_matrix, categorical=categorical_idx)\n",
    "df_clustered['kproto'] = kproto_labels\n",
    "\n",
    "results['kproto'] = {\n",
    "    'ARI': adjusted_rand_score(df_clustered[\"species\"], kproto_labels),\n",
    "    'NMI': normalized_mutual_info_score(df_clustered[\"species\"], kproto_labels)\n",
    "}\n",
    "\n",
    "# DBSCAN with Gower matrix\n",
    "\n",
    "# Optional: tune eps manually\n",
    "# for eps in [0.05, 0.1, 0.15, 0.17]:\n",
    "#     model = DBSCAN(eps=eps, min_samples=5, metric='precomputed')\n",
    "#     labels = model.fit_predict(gower_matrix)\n",
    "#     print(f\"eps={eps:.2f} → clusters: {len(set(labels)) - (1 if -1 in labels else 0)}, noise: {(labels == -1).sum()}\")\n",
    "\n",
    "dbscan_model = DBSCAN(eps=0.15, min_samples=5, metric='precomputed')\n",
    "dbscan_labels = dbscan_model.fit_predict(gower_matrix)\n",
    "df_clustered['gower_dbscan'] = dbscan_labels\n",
    "\n",
    "results['gower_dbscan'] = {\n",
    "    'ARI': adjusted_rand_score(df_clustered[\"species\"], dbscan_labels),\n",
    "    'NMI': normalized_mutual_info_score(df_clustered[\"species\"], dbscan_labels)\n",
    "}\n",
    "\n",
    "# Agglomerative Clustering with Gower\n",
    "agglo_model = AgglomerativeClustering(n_clusters=3, metric='precomputed', linkage='average')\n",
    "agglo_labels = agglo_model.fit_predict(gower_matrix)\n",
    "df_clustered['gower_aggl'] = agglo_labels\n",
    "\n",
    "results['gower_aggl'] = {\n",
    "    'ARI': adjusted_rand_score(df_clustered[\"species\"], agglo_labels),\n",
    "    'NMI': normalized_mutual_info_score(df_clustered[\"species\"], agglo_labels)\n",
    "}"
   ]
  },
  {
   "cell_type": "markdown",
   "id": "2a4239db-0a7b-4e93-bb09-50a288938bdb",
   "metadata": {},
   "source": [
    "## Evaluate"
   ]
  },
  {
   "cell_type": "code",
   "execution_count": 4,
   "id": "aa2a5e8f-c4ec-4888-9e10-4613af4a50d9",
   "metadata": {},
   "outputs": [
    {
     "name": "stdout",
     "output_type": "stream",
     "text": [
      "----- ARI and NMI Summary -----\n",
      "\n",
      "                   ARI       NMI\n",
      "kproto        0.733731  0.739709\n",
      "gower_dbscan  0.212538  0.375291\n",
      "gower_aggl    0.542704  0.606129\n",
      "\n",
      "----- Per-Model Cluster Counts -----\n",
      "\n",
      "----- kproto -----\n",
      "\n",
      "kproto\n",
      "0    124\n",
      "2    119\n",
      "1     90\n",
      "Name: count, dtype: int64\n",
      "\n",
      "----- gower_dbscan -----\n",
      "\n",
      "gower_dbscan\n",
      "3    83\n",
      "2    80\n",
      "5    62\n",
      "4    61\n",
      "1    24\n",
      "0    23\n",
      "Name: count, dtype: int64\n",
      "\n",
      "----- gower_aggl -----\n",
      "\n",
      "gower_aggl\n",
      "0    119\n",
      "1    107\n",
      "2    107\n",
      "Name: count, dtype: int64\n"
     ]
    }
   ],
   "source": [
    "# Evaluation summary table\n",
    "evaluation_df = pd.DataFrame(results).T\n",
    "print(\"----- ARI and NMI Summary -----\\n\")\n",
    "print(evaluation_df)\n",
    "\n",
    "# Label encode true species values for confusion matrices\n",
    "le = LabelEncoder()\n",
    "true_labels = le.fit_transform(df_clustered[\"species\"])\n",
    "\n",
    "# Print cluster counts and confusion matrices\n",
    "print(\"\\n----- Per-Model Cluster Counts -----\")\n",
    "for model_name in ['kproto', 'gower_dbscan', 'gower_aggl']:\n",
    "    print(f\"\\n----- {model_name} -----\\n\")\n",
    "    \n",
    "    cluster_counts = df_clustered[model_name].value_counts()\n",
    "    print(cluster_counts)"
   ]
  }
 ],
 "metadata": {
  "kernelspec": {
   "display_name": "Python 3 (ipykernel)",
   "language": "python",
   "name": "python3"
  },
  "language_info": {
   "codemirror_mode": {
    "name": "ipython",
    "version": 3
   },
   "file_extension": ".py",
   "mimetype": "text/x-python",
   "name": "python",
   "nbconvert_exporter": "python",
   "pygments_lexer": "ipython3",
   "version": "3.11.13"
  }
 },
 "nbformat": 4,
 "nbformat_minor": 5
}
